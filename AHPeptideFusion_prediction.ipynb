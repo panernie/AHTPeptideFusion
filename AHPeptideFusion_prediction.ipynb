{
 "cells": [
  {
   "cell_type": "code",
   "execution_count": 1,
   "id": "ff9c66aa",
   "metadata": {},
   "outputs": [],
   "source": [
    "import numpy as np\n",
    "import pandas as pd\n",
    "\n",
    "import torch\n",
    "import torch.nn as nn\n",
    "import torch.nn.functional as F\n",
    "from sklearn.metrics import roc_auc_score\n",
    "from sklearn.preprocessing import StandardScaler\n",
    "\n",
    "import random\n",
    "from tqdm import tqdm\n",
    "import esm"
   ]
  },
  {
   "cell_type": "code",
   "execution_count": 2,
   "id": "aef22b6f",
   "metadata": {},
   "outputs": [],
   "source": [
    "seed_value = 42\n",
    "random.seed(seed_value)                         # 设置 random 模块的随机种子\n",
    "np.random.seed(seed_value)                      # 设置 numpy 模块的随机种子\n",
    "torch.manual_seed(seed_value)                   # 设置 PyTorch 中 CPU 的随机种子\n",
    "#tf.random.set_seed(seed_value)                 # 设置 Tensorflow 中随机种子\n",
    "if torch.cuda.is_available():                   # 如果可以使用 CUDA，设置随机种子\n",
    "    torch.cuda.manual_seed(seed_value)          # 设置 PyTorch 中 GPU 的随机种子\n",
    "# 检测GPU是否可用\n",
    "device = torch.device('cuda' if torch.cuda.is_available() else 'cpu')"
   ]
  },
  {
   "cell_type": "markdown",
   "id": "b53f1457",
   "metadata": {},
   "source": [
    "## 加载ESM模型"
   ]
  },
  {
   "cell_type": "code",
   "execution_count": 3,
   "id": "dae9a68a",
   "metadata": {},
   "outputs": [
    {
     "data": {
      "text/plain": [
       "ESM2(\n",
       "  (embed_tokens): Embedding(33, 320, padding_idx=1)\n",
       "  (layers): ModuleList(\n",
       "    (0-5): 6 x TransformerLayer(\n",
       "      (self_attn): MultiheadAttention(\n",
       "        (k_proj): Linear(in_features=320, out_features=320, bias=True)\n",
       "        (v_proj): Linear(in_features=320, out_features=320, bias=True)\n",
       "        (q_proj): Linear(in_features=320, out_features=320, bias=True)\n",
       "        (out_proj): Linear(in_features=320, out_features=320, bias=True)\n",
       "        (rot_emb): RotaryEmbedding()\n",
       "      )\n",
       "      (self_attn_layer_norm): LayerNorm((320,), eps=1e-05, elementwise_affine=True)\n",
       "      (fc1): Linear(in_features=320, out_features=1280, bias=True)\n",
       "      (fc2): Linear(in_features=1280, out_features=320, bias=True)\n",
       "      (final_layer_norm): LayerNorm((320,), eps=1e-05, elementwise_affine=True)\n",
       "    )\n",
       "  )\n",
       "  (contact_head): ContactPredictionHead(\n",
       "    (regression): Linear(in_features=120, out_features=1, bias=True)\n",
       "    (activation): Sigmoid()\n",
       "  )\n",
       "  (emb_layer_norm_after): LayerNorm((320,), eps=1e-05, elementwise_affine=True)\n",
       "  (lm_head): RobertaLMHead(\n",
       "    (dense): Linear(in_features=320, out_features=320, bias=True)\n",
       "    (layer_norm): LayerNorm((320,), eps=1e-05, elementwise_affine=True)\n",
       "  )\n",
       ")"
      ]
     },
     "execution_count": 3,
     "metadata": {},
     "output_type": "execute_result"
    }
   ],
   "source": [
    "# Load ESM-2 model\n",
    "esm_model, alphabet = esm.pretrained.esm2_t6_8M_UR50D() #320d\n",
    "batch_converter = alphabet.get_batch_converter()\n",
    "esm_model.eval()  # disables dropout for deterministic results"
   ]
  },
  {
   "cell_type": "code",
   "execution_count": 4,
   "id": "8d2fe2fe",
   "metadata": {},
   "outputs": [],
   "source": [
    "def ESM_feature(sequence):\n",
    "    data = []\n",
    "    for i in tqdm(sequence):\n",
    "        row = (i,i)\n",
    "        data.append(row)\n",
    "\n",
    "    batch_labels, batch_strs, batch_tokens = batch_converter(data)\n",
    "    batch_lens = (batch_tokens != alphabet.padding_idx).sum(1)\n",
    "\n",
    "    with torch.no_grad():\n",
    "        results = esm_model(batch_tokens, repr_layers=[6], return_contacts=True)\n",
    "    token_representations = results[\"representations\"][6]\n",
    "# Generate per-sequence representations via averaging\n",
    "# NOTE: token 0 is always a beginning-of-sequence token, so the first residue is token 1.\n",
    "    sequence_representations = []\n",
    "    for i, tokens_len in enumerate(batch_lens):\n",
    "        sequence_representations.append(token_representations[i, 1 : tokens_len - 1].mean(0))\n",
    "    return sequence_representations"
   ]
  },
  {
   "cell_type": "code",
   "execution_count": 5,
   "id": "50ccba95",
   "metadata": {},
   "outputs": [],
   "source": [
    "df=pd.read_csv(\"test192.txt\", na_filter=False)"
   ]
  },
  {
   "cell_type": "code",
   "execution_count": 8,
   "id": "79fae87c",
   "metadata": {},
   "outputs": [
    {
     "data": {
      "text/html": [
       "<div>\n",
       "<style scoped>\n",
       "    .dataframe tbody tr th:only-of-type {\n",
       "        vertical-align: middle;\n",
       "    }\n",
       "\n",
       "    .dataframe tbody tr th {\n",
       "        vertical-align: top;\n",
       "    }\n",
       "\n",
       "    .dataframe thead th {\n",
       "        text-align: right;\n",
       "    }\n",
       "</style>\n",
       "<table border=\"1\" class=\"dataframe\">\n",
       "  <thead>\n",
       "    <tr style=\"text-align: right;\">\n",
       "      <th></th>\n",
       "      <th>sequence</th>\n",
       "    </tr>\n",
       "  </thead>\n",
       "  <tbody>\n",
       "    <tr>\n",
       "      <th>0</th>\n",
       "      <td>VSV</td>\n",
       "    </tr>\n",
       "    <tr>\n",
       "      <th>1</th>\n",
       "      <td>INEGSLLPH</td>\n",
       "    </tr>\n",
       "    <tr>\n",
       "      <th>2</th>\n",
       "      <td>LRP</td>\n",
       "    </tr>\n",
       "    <tr>\n",
       "      <th>3</th>\n",
       "      <td>IVY</td>\n",
       "    </tr>\n",
       "    <tr>\n",
       "      <th>4</th>\n",
       "      <td>IWW</td>\n",
       "    </tr>\n",
       "  </tbody>\n",
       "</table>\n",
       "</div>"
      ],
      "text/plain": [
       "    sequence\n",
       "0        VSV\n",
       "1  INEGSLLPH\n",
       "2        LRP\n",
       "3        IVY\n",
       "4        IWW"
      ]
     },
     "execution_count": 8,
     "metadata": {},
     "output_type": "execute_result"
    }
   ],
   "source": [
    "df.head(5)"
   ]
  },
  {
   "cell_type": "code",
   "execution_count": 9,
   "id": "0e6f24cb",
   "metadata": {},
   "outputs": [
    {
     "data": {
      "text/plain": [
       "(192, 1)"
      ]
     },
     "execution_count": 9,
     "metadata": {},
     "output_type": "execute_result"
    }
   ],
   "source": [
    "df.shape"
   ]
  },
  {
   "cell_type": "code",
   "execution_count": 11,
   "id": "71f95019",
   "metadata": {},
   "outputs": [],
   "source": [
    "len_num = [len(num) for num in df[\"sequence\"]]\n",
    "df[\"len_num\"] = len_num"
   ]
  },
  {
   "cell_type": "code",
   "execution_count": 12,
   "id": "d955475c",
   "metadata": {},
   "outputs": [],
   "source": [
    "RF_sequence = df[df[\"len_num\"]>10][\"sequence\"]\n",
    "transformer_sequence = df[df[\"len_num\"]<11][\"sequence\"]"
   ]
  },
  {
   "cell_type": "code",
   "execution_count": 14,
   "id": "8625c933",
   "metadata": {},
   "outputs": [
    {
     "name": "stderr",
     "output_type": "stream",
     "text": [
      "100%|████████████████████████████████████████████████████████████████████████████████████████████| 8/8 [00:00<?, ?it/s]\n"
     ]
    }
   ],
   "source": [
    "RF_sequence_representations = ESM_feature(RF_sequence)"
   ]
  },
  {
   "cell_type": "code",
   "execution_count": 15,
   "id": "c129e853",
   "metadata": {},
   "outputs": [
    {
     "name": "stderr",
     "output_type": "stream",
     "text": [
      "100%|████████████████████████████████████████████████████████████████████████████| 184/184 [00:00<00:00, 183444.72it/s]\n"
     ]
    }
   ],
   "source": [
    "transformer_sequence_representations = ESM_feature(transformer_sequence)"
   ]
  },
  {
   "cell_type": "markdown",
   "id": "cb2389a6",
   "metadata": {},
   "source": [
    "# 分别产生特征和模型"
   ]
  },
  {
   "cell_type": "code",
   "execution_count": 16,
   "id": "2188fde9",
   "metadata": {},
   "outputs": [],
   "source": [
    "import joblib\n",
    "scaler_filename =r\"model\\Standard_scaler.save\"\n",
    "scaler = joblib.load(scaler_filename)"
   ]
  },
  {
   "cell_type": "code",
   "execution_count": 19,
   "id": "f2af37ff",
   "metadata": {},
   "outputs": [],
   "source": [
    "RF_pred = torch.stack(RF_sequence_representations)"
   ]
  },
  {
   "cell_type": "code",
   "execution_count": 20,
   "id": "8b88fad9",
   "metadata": {},
   "outputs": [],
   "source": [
    "transformer_X_pred = torch.stack(transformer_sequence_representations)"
   ]
  },
  {
   "cell_type": "code",
   "execution_count": 21,
   "id": "8e2125ff",
   "metadata": {},
   "outputs": [],
   "source": [
    "RF_X_pred = scaler.transform(RF_pred)"
   ]
  },
  {
   "cell_type": "code",
   "execution_count": 22,
   "id": "84ac3946",
   "metadata": {},
   "outputs": [],
   "source": [
    "transformer_X_pred = scaler.transform(transformer_X_pred)"
   ]
  },
  {
   "cell_type": "markdown",
   "id": "3270f970",
   "metadata": {},
   "source": [
    "## 加载预测模型"
   ]
  },
  {
   "cell_type": "code",
   "execution_count": 24,
   "id": "4d534dc4",
   "metadata": {},
   "outputs": [],
   "source": [
    "class TransformerModel(nn.Module):\n",
    "    def __init__(self, input_size, num_classes):\n",
    "        super(TransformerModel, self).__init__()\n",
    "        # 构建Transformer编码层，参数包括输入维度、注意力头数\n",
    "        # 其中d_model要和模型输入维度相同\n",
    "        self.encoder_layer = nn.TransformerEncoderLayer(d_model=input_size,  # 输入维度\n",
    "                                                        batch_first=True,\n",
    "                                                        nhead=8)             # 注意力头数\n",
    "        # 构建Transformer编码器，参数包括编码层和层数\n",
    "        self.encoder = nn.TransformerEncoder(self.encoder_layer,             # 编码层\n",
    "                                             num_layers=10)                   # 层数\n",
    "        # 构建线性层，参数包括输入维度和输出维度（num_classes）\n",
    "        self.fc = nn.Linear(input_size,                                      # 输入维度\n",
    "                            num_classes)                                     # 输出维度\n",
    "\n",
    "\n",
    "    def forward(self, x):\n",
    "        #print(\"A:\", x.shape)  # torch.Size([142, 13])\n",
    "        x = x.unsqueeze(1)    # 增加一个维度，变成(batch_size, 1, input_size)的形状\n",
    "        #print(\"B:\", x.shape)  # torch.Size([142, 1, 13])\n",
    "        x = self.encoder(x)   # 输入Transformer编码器进行编码\n",
    "        #print(\"C:\", x.shape)  # torch.Size([142, 1, 13])\n",
    "        x = x.squeeze(1)      # 压缩第1维，变成(batch_size, input_size)的形状\n",
    "        #print(\"D:\", x.shape)  # torch.Size([142, 13])\n",
    "        x = self.fc(x)        # 输入线性层进行分类预测\n",
    "        #print(\"E:\", x.shape)  # torch.Size([142, 3])\n",
    "        return x"
   ]
  },
  {
   "cell_type": "code",
   "execution_count": 26,
   "id": "1e691da8",
   "metadata": {},
   "outputs": [
    {
     "name": "stderr",
     "output_type": "stream",
     "text": [
      "D:\\BaiduNetdiskDownload\\Anaconda\\envs\\AHTPeptideFusion\\lib\\site-packages\\sklearn\\base.py:329: UserWarning: Trying to unpickle estimator DecisionTreeClassifier from version 0.23.2 when using version 1.0.2. This might lead to breaking code or invalid results. Use at your own risk. For more info please refer to:\n",
      "https://scikit-learn.org/stable/modules/model_persistence.html#security-maintainability-limitations\n",
      "  warnings.warn(\n",
      "D:\\BaiduNetdiskDownload\\Anaconda\\envs\\AHTPeptideFusion\\lib\\site-packages\\sklearn\\base.py:329: UserWarning: Trying to unpickle estimator RandomForestClassifier from version 0.23.2 when using version 1.0.2. This might lead to breaking code or invalid results. Use at your own risk. For more info please refer to:\n",
      "https://scikit-learn.org/stable/modules/model_persistence.html#security-maintainability-limitations\n",
      "  warnings.warn(\n"
     ]
    }
   ],
   "source": [
    "RF_model = joblib.load(r\"model\\RandomForest_classf.pkl\")"
   ]
  },
  {
   "cell_type": "code",
   "execution_count": 27,
   "id": "d611b943",
   "metadata": {},
   "outputs": [],
   "source": [
    "model = torch.load(r'model\\transformer_class.pt',map_location=torch.device('cuda:0'))#.to(device)"
   ]
  },
  {
   "cell_type": "markdown",
   "id": "5626f9d3",
   "metadata": {},
   "source": [
    "# 模型预测"
   ]
  },
  {
   "cell_type": "code",
   "execution_count": 28,
   "id": "d3888767",
   "metadata": {},
   "outputs": [],
   "source": [
    "RF_y = RF_model.predict(RF_pred)\n",
    "RF_y_pro = RF_model.predict_proba(RF_pred)"
   ]
  },
  {
   "cell_type": "code",
   "execution_count": 29,
   "id": "499234be",
   "metadata": {},
   "outputs": [],
   "source": [
    "RF_df = pd.DataFrame(np.array(RF_sequence),columns=[\"sequence\"])\n",
    "RF_df[\"Active_pro\"] = RF_y_pro[:,0]\n",
    "RF_df[\"Inactive_pro\"] = RF_y_pro[:,1]"
   ]
  },
  {
   "cell_type": "code",
   "execution_count": 30,
   "id": "c19a25c3",
   "metadata": {},
   "outputs": [],
   "source": [
    "#extraT_df.to_excel(\"RF_ACE_true_prediction_result.xlsx\",index=None)"
   ]
  },
  {
   "cell_type": "code",
   "execution_count": 31,
   "id": "c31110b9",
   "metadata": {},
   "outputs": [],
   "source": [
    "#svc_df.to_excel(\"4_ACE_true_prediction_result.xlsx\",index=None)"
   ]
  },
  {
   "cell_type": "code",
   "execution_count": 32,
   "id": "ba58ba55",
   "metadata": {},
   "outputs": [],
   "source": [
    "with torch.no_grad():\n",
    "    model.eval()\n",
    "    y_hat = model(torch.tensor(transformer_X_pred).float().to(device))   # 使用训练好的模型对测试集进行预测\n",
    "    y_score = torch.softmax(y_hat, dim=1).data.cpu().numpy()\n",
    "    prediction = torch.max(F.softmax(y_hat,dim=1), 1)[1]\n",
    "    #pred_y = prediction.data.cpu().numpy().squeeze()"
   ]
  },
  {
   "cell_type": "code",
   "execution_count": 35,
   "id": "e9134f0a",
   "metadata": {},
   "outputs": [],
   "source": [
    "transformer_df = pd.DataFrame(np.array(transformer_sequence),columns=[\"sequence\"])\n",
    "transformer_df[\"Active_pro\"] = y_score[:,0]\n",
    "transformer_df[\"Inactive_pro\"] = y_score[:,1]"
   ]
  },
  {
   "cell_type": "code",
   "execution_count": 36,
   "id": "47896fd2",
   "metadata": {},
   "outputs": [],
   "source": [
    "#transformer_df.to_excel(\"prediction_result.xlsx\",index=None)"
   ]
  },
  {
   "cell_type": "code",
   "execution_count": 37,
   "id": "9a17c2d1",
   "metadata": {},
   "outputs": [],
   "source": [
    "df_all = pd.concat([RF_df,transformer_df], axis=0)"
   ]
  },
  {
   "cell_type": "markdown",
   "id": "67391f9b",
   "metadata": {},
   "source": [
    "## 保存结果"
   ]
  },
  {
   "cell_type": "code",
   "execution_count": 38,
   "id": "0628fad1",
   "metadata": {},
   "outputs": [],
   "source": [
    "df_all.to_excel(\"AHTPeptideFusion_prediction_result.xlsx\",index=None)"
   ]
  },
  {
   "cell_type": "code",
   "execution_count": 39,
   "id": "97e59497",
   "metadata": {},
   "outputs": [
    {
     "data": {
      "text/plain": [
       "176"
      ]
     },
     "execution_count": 39,
     "metadata": {},
     "output_type": "execute_result"
    }
   ],
   "source": [
    "sum([1 for x in df_all[\"Active_pro\"] if x > 0.5])"
   ]
  },
  {
   "cell_type": "code",
   "execution_count": null,
   "id": "f40e3504",
   "metadata": {},
   "outputs": [],
   "source": []
  }
 ],
 "metadata": {
  "kernelspec": {
   "display_name": "Python 3 (ipykernel)",
   "language": "python",
   "name": "python3"
  },
  "language_info": {
   "codemirror_mode": {
    "name": "ipython",
    "version": 3
   },
   "file_extension": ".py",
   "mimetype": "text/x-python",
   "name": "python",
   "nbconvert_exporter": "python",
   "pygments_lexer": "ipython3",
   "version": "3.9.0"
  }
 },
 "nbformat": 4,
 "nbformat_minor": 5
}
